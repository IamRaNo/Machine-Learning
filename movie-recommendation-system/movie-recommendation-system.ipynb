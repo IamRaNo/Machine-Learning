{
 "cells": [
  {
   "cell_type": "code",
   "execution_count": 1,
   "id": "5359690c-8c14-47c3-a9a2-aaa7ca3ed27b",
   "metadata": {},
   "outputs": [],
   "source": [
    "import numpy as np\n",
    "import pandas as pd"
   ]
  },
  {
   "cell_type": "code",
   "execution_count": 2,
   "id": "808714b0-03a5-4f63-bcf4-02ecd9af8de8",
   "metadata": {},
   "outputs": [],
   "source": [
    "movies=pd.read_csv(\"tmdb_5000_movies.csv\")\n",
    "credits=pd.read_csv(\"tmdb_5000_credits.csv\")"
   ]
  },
  {
   "cell_type": "code",
   "execution_count": 3,
   "id": "98fb933a-ab00-48d4-93df-6ccc328e8e0c",
   "metadata": {},
   "outputs": [
    {
     "data": {
      "text/plain": [
       "(4803, 4)"
      ]
     },
     "execution_count": 3,
     "metadata": {},
     "output_type": "execute_result"
    }
   ],
   "source": [
    "movies.head()\n",
    "\n",
    "credits.head()\n",
    "\n",
    "movies.shape\n",
    "\n",
    "credits.shape"
   ]
  },
  {
   "cell_type": "code",
   "execution_count": 4,
   "id": "0455faba-4148-4838-8beb-d8333605a5e4",
   "metadata": {},
   "outputs": [],
   "source": [
    "movies.rename(columns={'id':\"movie_id\"},inplace=True)\n",
    "\n",
    "data=movies.merge(credits,on='movie_id')"
   ]
  },
  {
   "cell_type": "code",
   "execution_count": 5,
   "id": "9da18cae-124e-4ed4-b9fc-bade1170151f",
   "metadata": {},
   "outputs": [
    {
     "data": {
      "text/html": [
       "<div>\n",
       "<style scoped>\n",
       "    .dataframe tbody tr th:only-of-type {\n",
       "        vertical-align: middle;\n",
       "    }\n",
       "\n",
       "    .dataframe tbody tr th {\n",
       "        vertical-align: top;\n",
       "    }\n",
       "\n",
       "    .dataframe thead th {\n",
       "        text-align: right;\n",
       "    }\n",
       "</style>\n",
       "<table border=\"1\" class=\"dataframe\">\n",
       "  <thead>\n",
       "    <tr style=\"text-align: right;\">\n",
       "      <th></th>\n",
       "      <th>budget</th>\n",
       "      <th>genres</th>\n",
       "      <th>homepage</th>\n",
       "      <th>movie_id</th>\n",
       "      <th>keywords</th>\n",
       "      <th>original_language</th>\n",
       "      <th>original_title</th>\n",
       "      <th>overview</th>\n",
       "      <th>popularity</th>\n",
       "      <th>production_companies</th>\n",
       "      <th>...</th>\n",
       "      <th>runtime</th>\n",
       "      <th>spoken_languages</th>\n",
       "      <th>status</th>\n",
       "      <th>tagline</th>\n",
       "      <th>title</th>\n",
       "      <th>vote_average</th>\n",
       "      <th>vote_count</th>\n",
       "      <th>title_y</th>\n",
       "      <th>cast</th>\n",
       "      <th>crew</th>\n",
       "    </tr>\n",
       "  </thead>\n",
       "  <tbody>\n",
       "    <tr>\n",
       "      <th>4289</th>\n",
       "      <td>0</td>\n",
       "      <td>[{\"id\": 53, \"name\": \"Thriller\"}, {\"id\": 35, \"n...</td>\n",
       "      <td>NaN</td>\n",
       "      <td>278316</td>\n",
       "      <td>[]</td>\n",
       "      <td>en</td>\n",
       "      <td>Da Sweet Blood of Jesus</td>\n",
       "      <td>A movie about human beings who are addicted to...</td>\n",
       "      <td>4.480579</td>\n",
       "      <td>[{\"name\": \"40 Acres &amp; A Mule Filmworks\", \"id\":...</td>\n",
       "      <td>...</td>\n",
       "      <td>123.0</td>\n",
       "      <td>[{\"iso_639_1\": \"en\", \"name\": \"English\"}]</td>\n",
       "      <td>Released</td>\n",
       "      <td>NaN</td>\n",
       "      <td>Da Sweet Blood of Jesus</td>\n",
       "      <td>4.1</td>\n",
       "      <td>13</td>\n",
       "      <td>Da Sweet Blood of Jesus</td>\n",
       "      <td>[{\"cast_id\": 14, \"character\": \"\", \"credit_id\":...</td>\n",
       "      <td>[{\"credit_id\": \"53a821770e0a26144500598e\", \"de...</td>\n",
       "    </tr>\n",
       "  </tbody>\n",
       "</table>\n",
       "<p>1 rows × 23 columns</p>\n",
       "</div>"
      ],
      "text/plain": [
       "      budget                                             genres homepage  \\\n",
       "4289       0  [{\"id\": 53, \"name\": \"Thriller\"}, {\"id\": 35, \"n...      NaN   \n",
       "\n",
       "      movie_id keywords original_language           original_title  \\\n",
       "4289    278316       []                en  Da Sweet Blood of Jesus   \n",
       "\n",
       "                                               overview  popularity  \\\n",
       "4289  A movie about human beings who are addicted to...    4.480579   \n",
       "\n",
       "                                   production_companies  ... runtime  \\\n",
       "4289  [{\"name\": \"40 Acres & A Mule Filmworks\", \"id\":...  ...   123.0   \n",
       "\n",
       "                              spoken_languages    status  tagline  \\\n",
       "4289  [{\"iso_639_1\": \"en\", \"name\": \"English\"}]  Released      NaN   \n",
       "\n",
       "                        title vote_average vote_count  \\\n",
       "4289  Da Sweet Blood of Jesus          4.1         13   \n",
       "\n",
       "                      title_y  \\\n",
       "4289  Da Sweet Blood of Jesus   \n",
       "\n",
       "                                                   cast  \\\n",
       "4289  [{\"cast_id\": 14, \"character\": \"\", \"credit_id\":...   \n",
       "\n",
       "                                                   crew  \n",
       "4289  [{\"credit_id\": \"53a821770e0a26144500598e\", \"de...  \n",
       "\n",
       "[1 rows x 23 columns]"
      ]
     },
     "execution_count": 5,
     "metadata": {},
     "output_type": "execute_result"
    }
   ],
   "source": [
    "data.columns\n",
    "\n",
    "data.rename(columns={'title_x':'title'},inplace=True)\n",
    "\n",
    "data.columns\n",
    "\n",
    "data.sample(1)"
   ]
  },
  {
   "cell_type": "code",
   "execution_count": 6,
   "id": "2b6f67a6-9e66-4f08-86cc-9213bdc88378",
   "metadata": {},
   "outputs": [],
   "source": [
    "columns_to_remove=['budget','homepage','original_language','original_title','popularity','production_countries','release_date','revenue','runtime','spoken_languages','status','vote_average','vote_count','title_y']\n",
    "\n",
    "data=data.drop(columns=columns_to_remove,axis=1)\n",
    "\n",
    "data.head()\n",
    "\n",
    "from ast import literal_eval\n",
    "\n",
    "data['genres'].values\n",
    "\n",
    "def extract_names(data):\n",
    "    names=[]\n",
    "    for items in literal_eval(data):\n",
    "        names.append(items['name'])\n",
    "    return names\n",
    "\n",
    "data['genres']=data['genres'].apply(extract_names)\n",
    "\n",
    "data.head(1)\n",
    "\n",
    "data['keywords']=data['keywords'].apply(extract_names)\n",
    "\n",
    "data.head()\n",
    "\n",
    "data['production_companies'][0]\n",
    "\n",
    "data['production_companies']=data['production_companies'].apply(extract_names)\n",
    "\n",
    "def extract_top_names(data):\n",
    "    names=[]\n",
    "    counter=0\n",
    "    for items in literal_eval(data):\n",
    "        if counter<3:\n",
    "            names.append(items['name'])\n",
    "            counter+=1\n",
    "    return names\n",
    "\n",
    "data['cast']=data['cast'].apply(extract_top_names)\n",
    "\n",
    "data.sample(2)\n",
    "\n",
    "def fetch_director(data):\n",
    "    name=[]\n",
    "    for item in literal_eval(data):\n",
    "        if item['job']=='Director':\n",
    "            name.append(item['name'])\n",
    "    return name\n",
    "\n",
    "data['crew']=data['crew'].apply(fetch_director)\n",
    "\n",
    "data.sample()\n",
    "\n",
    "data['overview']\n",
    "\n",
    "import string\n",
    "\n",
    "data['overview']=data['overview'].str.translate(str.maketrans('', '',string.punctuation))\n",
    "\n",
    "data.sample(1)\n",
    "\n",
    "data['tagline']=data['tagline'].str.lower().str.translate(str.maketrans('', '',string.punctuation))\n",
    "\n",
    "data['tagline'].isnull().sum()\n",
    "\n",
    "data.drop(columns='tagline',axis=1,inplace=True)\n",
    "\n",
    "data.sample()\n",
    "\n",
    "from nltk.tokenize import word_tokenize\n",
    "\n",
    "def tokenizer(data):\n",
    "    for item in data:\n",
    "        return word_tokenize(item)\n",
    "\n",
    "data=data[~data['overview'].isnull()]\n",
    "\n",
    "data['overview']=data['overview'].apply(word_tokenize)\n",
    "\n",
    "def remove_spaces(data):\n",
    "    names=[]\n",
    "    for item in data:\n",
    "        names.append(item.replace(\" \",\"\"))\n",
    "    return names\n",
    "\n",
    "data.sample()\n",
    "\n",
    "data['cast']=data['cast'].apply(remove_spaces)\n",
    "\n",
    "data['cast']\n",
    "\n",
    "data['crew']=data['crew'].apply(remove_spaces)\n",
    "\n",
    "data['production_companies']=data['production_companies'].apply(remove_spaces)\n",
    "\n",
    "data.head(5)\n",
    "\n",
    "data.head()\n",
    "\n",
    "data.sample()\n",
    "\n",
    "data['tags']=data['genres']+data['keywords']+data['overview']+data['production_companies']+data['cast']+data['crew']\n",
    "\n",
    "data.drop(columns=['genres','keywords','overview','production_companies','cast','crew'],axis=1,inplace=True)\n",
    "\n",
    "data.sample(5)\n",
    "\n",
    "data['tags']=data['tags'].apply(remove_spaces)"
   ]
  },
  {
   "cell_type": "code",
   "execution_count": 7,
   "id": "95a680ed-4c97-40e4-8f03-678266025d7a",
   "metadata": {},
   "outputs": [],
   "source": [
    "def to_lower(data):\n",
    "    lst=[]\n",
    "    for item in data:\n",
    "        lst.append(item.lower())\n",
    "    return lst"
   ]
  },
  {
   "cell_type": "code",
   "execution_count": 8,
   "id": "4ad1532b-7f60-40eb-8b8b-48867827bad2",
   "metadata": {},
   "outputs": [
    {
     "data": {
      "text/html": [
       "<div>\n",
       "<style scoped>\n",
       "    .dataframe tbody tr th:only-of-type {\n",
       "        vertical-align: middle;\n",
       "    }\n",
       "\n",
       "    .dataframe tbody tr th {\n",
       "        vertical-align: top;\n",
       "    }\n",
       "\n",
       "    .dataframe thead th {\n",
       "        text-align: right;\n",
       "    }\n",
       "</style>\n",
       "<table border=\"1\" class=\"dataframe\">\n",
       "  <thead>\n",
       "    <tr style=\"text-align: right;\">\n",
       "      <th></th>\n",
       "      <th>movie_id</th>\n",
       "      <th>title</th>\n",
       "      <th>tags</th>\n",
       "    </tr>\n",
       "  </thead>\n",
       "  <tbody>\n",
       "    <tr>\n",
       "      <th>0</th>\n",
       "      <td>19995</td>\n",
       "      <td>Avatar</td>\n",
       "      <td>action adventure fantasy sciencefiction cultur...</td>\n",
       "    </tr>\n",
       "    <tr>\n",
       "      <th>1</th>\n",
       "      <td>285</td>\n",
       "      <td>Pirates of the Caribbean: At World's End</td>\n",
       "      <td>adventure fantasy action ocean drugabuse exoti...</td>\n",
       "    </tr>\n",
       "    <tr>\n",
       "      <th>2</th>\n",
       "      <td>206647</td>\n",
       "      <td>Spectre</td>\n",
       "      <td>action adventure crime spy basedonnovel secret...</td>\n",
       "    </tr>\n",
       "    <tr>\n",
       "      <th>3</th>\n",
       "      <td>49026</td>\n",
       "      <td>The Dark Knight Rises</td>\n",
       "      <td>action crime drama thriller dccomics crimefigh...</td>\n",
       "    </tr>\n",
       "    <tr>\n",
       "      <th>4</th>\n",
       "      <td>49529</td>\n",
       "      <td>John Carter</td>\n",
       "      <td>action adventure sciencefiction basedonnovel m...</td>\n",
       "    </tr>\n",
       "  </tbody>\n",
       "</table>\n",
       "</div>"
      ],
      "text/plain": [
       "   movie_id                                     title  \\\n",
       "0     19995                                    Avatar   \n",
       "1       285  Pirates of the Caribbean: At World's End   \n",
       "2    206647                                   Spectre   \n",
       "3     49026                     The Dark Knight Rises   \n",
       "4     49529                               John Carter   \n",
       "\n",
       "                                                tags  \n",
       "0  action adventure fantasy sciencefiction cultur...  \n",
       "1  adventure fantasy action ocean drugabuse exoti...  \n",
       "2  action adventure crime spy basedonnovel secret...  \n",
       "3  action crime drama thriller dccomics crimefigh...  \n",
       "4  action adventure sciencefiction basedonnovel m...  "
      ]
     },
     "execution_count": 8,
     "metadata": {},
     "output_type": "execute_result"
    }
   ],
   "source": [
    "data['tags']=data['tags'].apply(to_lower)\n",
    "\n",
    "data.sample(5)\n",
    "\n",
    "data['tags']=data['tags'].apply(lambda x:\" \".join(x))\n",
    "\n",
    "data.head()"
   ]
  },
  {
   "cell_type": "code",
   "execution_count": 9,
   "id": "f7f90c64-6050-40a4-8cce-48579681de86",
   "metadata": {},
   "outputs": [
    {
     "data": {
      "text/plain": [
       "'action adventure fantasy sciencefiction cultureclash future spacewar spacecolony society spacetravel futuristic romance space alien tribe alienplanet cgi marine soldier battle loveaffair antiwar powerrelations mindandsoul 3d in the 22nd century a paraplegic marine is dispatched to the moon pandora on a unique mission but becomes torn between following orders and protecting an alien civilization ingeniousfilmpartners twentiethcenturyfoxfilmcorporation duneentertainment lightstormentertainment samworthington zoesaldana sigourneyweaver jamescameron'"
      ]
     },
     "execution_count": 9,
     "metadata": {},
     "output_type": "execute_result"
    }
   ],
   "source": [
    "data['tags'][0]"
   ]
  },
  {
   "cell_type": "code",
   "execution_count": 10,
   "id": "2d095432-052e-4366-90c4-7d6f13d33655",
   "metadata": {},
   "outputs": [],
   "source": [
    "from sklearn.feature_extraction.text import CountVectorizer"
   ]
  },
  {
   "cell_type": "code",
   "execution_count": 11,
   "id": "a6f85ebf-4ebb-4f3f-94d9-b2fa55b12673",
   "metadata": {},
   "outputs": [],
   "source": [
    "vectorizer=CountVectorizer(max_features=5000,stop_words='english')"
   ]
  },
  {
   "cell_type": "code",
   "execution_count": 12,
   "id": "c083bee6-1d6d-4205-ad0c-22f3d0ba2013",
   "metadata": {},
   "outputs": [],
   "source": [
    "vectors=vectorizer.fit_transform(data['tags']).toarray()"
   ]
  },
  {
   "cell_type": "code",
   "execution_count": 13,
   "id": "263c78ee-bbef-4631-9dde-ff4f585ada79",
   "metadata": {},
   "outputs": [],
   "source": [
    "import nltk"
   ]
  },
  {
   "cell_type": "code",
   "execution_count": 14,
   "id": "8f358e7e-4848-45d8-8145-8f626175274a",
   "metadata": {},
   "outputs": [],
   "source": [
    "from nltk.stem.porter import PorterStemmer"
   ]
  },
  {
   "cell_type": "code",
   "execution_count": 15,
   "id": "80f2b6b9-bbcc-45cb-bada-63ab110d3984",
   "metadata": {},
   "outputs": [],
   "source": [
    "stemmer=PorterStemmer()"
   ]
  },
  {
   "cell_type": "code",
   "execution_count": 16,
   "id": "79f719e6-c2da-4e64-b3a4-ef3d07eb5094",
   "metadata": {},
   "outputs": [],
   "source": [
    "def stem_text(data):\n",
    "    l=[]\n",
    "    for element in data.split():\n",
    "        l.append(stemmer.stem(element))\n",
    "    return \" \".join(l)"
   ]
  },
  {
   "cell_type": "code",
   "execution_count": 17,
   "id": "f4ccb39a-6c3d-4c97-a1b6-f5e9ed02882a",
   "metadata": {},
   "outputs": [],
   "source": [
    "data['tags']=data['tags'].apply(stem_text)"
   ]
  },
  {
   "cell_type": "code",
   "execution_count": 18,
   "id": "c62ca55e-ef18-4537-b9a2-e1f46d7b76f8",
   "metadata": {},
   "outputs": [],
   "source": [
    "vectors=vectorizer.fit_transform(data['tags']).toarray()"
   ]
  },
  {
   "cell_type": "code",
   "execution_count": 19,
   "id": "533de36f-dfd7-4ece-89d8-7322572ef1ba",
   "metadata": {},
   "outputs": [],
   "source": [
    "pd.set_option('display.max_columns',None)"
   ]
  },
  {
   "cell_type": "code",
   "execution_count": 20,
   "id": "bd73fddb-28b6-434e-8a6e-80fd083b7182",
   "metadata": {},
   "outputs": [
    {
     "data": {
      "text/plain": [
       "array(['007', '10', '100', ..., 'zone', 'zoo', 'zooeydeschanel'],\n",
       "      dtype=object)"
      ]
     },
     "execution_count": 20,
     "metadata": {},
     "output_type": "execute_result"
    }
   ],
   "source": [
    "vectorizer.get_feature_names_out()"
   ]
  },
  {
   "cell_type": "code",
   "execution_count": 21,
   "id": "b4078422-5427-4bd8-b82d-fbaeb73d3ae8",
   "metadata": {},
   "outputs": [
    {
     "data": {
      "text/plain": [
       "'action adventur fantasi sciencefict cultureclash futur spacewar spacecoloni societi spacetravel futurist romanc space alien tribe alienplanet cgi marin soldier battl loveaffair antiwar powerrel mindandsoul 3d in the 22nd centuri a parapleg marin is dispatch to the moon pandora on a uniqu mission but becom torn between follow order and protect an alien civil ingeniousfilmpartn twentiethcenturyfoxfilmcorpor duneentertain lightstormentertain samworthington zoesaldana sigourneyweav jamescameron'"
      ]
     },
     "execution_count": 21,
     "metadata": {},
     "output_type": "execute_result"
    }
   ],
   "source": [
    "data['tags'][0]"
   ]
  },
  {
   "cell_type": "code",
   "execution_count": 22,
   "id": "19724e80-31c2-4286-abff-85e9add11a02",
   "metadata": {},
   "outputs": [],
   "source": [
    "from sklearn.metrics.pairwise import cosine_similarity"
   ]
  },
  {
   "cell_type": "code",
   "execution_count": 23,
   "id": "2903a653-8716-45dc-8e03-6ba895ce92e5",
   "metadata": {},
   "outputs": [
    {
     "data": {
      "text/plain": [
       "(4800, 5000)"
      ]
     },
     "execution_count": 23,
     "metadata": {},
     "output_type": "execute_result"
    }
   ],
   "source": [
    "vectors.shape"
   ]
  },
  {
   "cell_type": "code",
   "execution_count": 24,
   "id": "8c639400-96ac-42f9-88c3-4c016e0fb57a",
   "metadata": {},
   "outputs": [],
   "source": [
    "similarity=cosine_similarity(vectors)"
   ]
  },
  {
   "cell_type": "code",
   "execution_count": 25,
   "id": "80e9d3e8-902c-4222-8a87-d05579f722d4",
   "metadata": {},
   "outputs": [
    {
     "data": {
      "text/html": [
       "<div>\n",
       "<style scoped>\n",
       "    .dataframe tbody tr th:only-of-type {\n",
       "        vertical-align: middle;\n",
       "    }\n",
       "\n",
       "    .dataframe tbody tr th {\n",
       "        vertical-align: top;\n",
       "    }\n",
       "\n",
       "    .dataframe thead th {\n",
       "        text-align: right;\n",
       "    }\n",
       "</style>\n",
       "<table border=\"1\" class=\"dataframe\">\n",
       "  <thead>\n",
       "    <tr style=\"text-align: right;\">\n",
       "      <th></th>\n",
       "      <th>movie_id</th>\n",
       "      <th>title</th>\n",
       "      <th>tags</th>\n",
       "    </tr>\n",
       "  </thead>\n",
       "  <tbody>\n",
       "    <tr>\n",
       "      <th>4088</th>\n",
       "      <td>80</td>\n",
       "      <td>Before Sunset</td>\n",
       "      <td>drama romanc pari journalist dialogu talk soul...</td>\n",
       "    </tr>\n",
       "  </tbody>\n",
       "</table>\n",
       "</div>"
      ],
      "text/plain": [
       "      movie_id          title  \\\n",
       "4088        80  Before Sunset   \n",
       "\n",
       "                                                   tags  \n",
       "4088  drama romanc pari journalist dialogu talk soul...  "
      ]
     },
     "execution_count": 25,
     "metadata": {},
     "output_type": "execute_result"
    }
   ],
   "source": [
    "data.sample(1)"
   ]
  },
  {
   "cell_type": "code",
   "execution_count": 30,
   "id": "0b20a135-176f-482c-96d7-458367efcdff",
   "metadata": {},
   "outputs": [
    {
     "data": {
      "text/plain": [
       "np.int64(0)"
      ]
     },
     "execution_count": 30,
     "metadata": {},
     "output_type": "execute_result"
    }
   ],
   "source": [
    "data[data['title']=='Avatar'].index[0]"
   ]
  },
  {
   "cell_type": "code",
   "execution_count": 35,
   "id": "fe999833-d026-4bef-b87d-a09534b97a45",
   "metadata": {},
   "outputs": [],
   "source": [
    "def recommend(movie):\n",
    "    movie_index=data[data['title']==movie].index[0]\n",
    "    distances=similarity[movie_index]\n",
    "    movie_list=sorted(list(enumerate(distances)),reverse=True,key=lambda x:x[1])[1:6]\n",
    "    for movie in movie_list:\n",
    "        print(data.iloc[movie[0]].title)"
   ]
  },
  {
   "cell_type": "code",
   "execution_count": 36,
   "id": "d5bba12c-e987-4aaf-a484-ef2e1188dba6",
   "metadata": {},
   "outputs": [
    {
     "name": "stdout",
     "output_type": "stream",
     "text": [
      "Aliens\n",
      "Titan A.E.\n",
      "Aliens vs Predator: Requiem\n",
      "Meet Dave\n",
      "Independence Day\n"
     ]
    }
   ],
   "source": [
    "recommend('Avatar')"
   ]
  },
  {
   "cell_type": "code",
   "execution_count": 37,
   "id": "80923059-d28e-4724-b15a-8771a9661444",
   "metadata": {},
   "outputs": [],
   "source": [
    "import pickle"
   ]
  },
  {
   "cell_type": "code",
   "execution_count": 40,
   "id": "c6f348c0-fa2f-4e67-b26e-7660a66f33d9",
   "metadata": {},
   "outputs": [],
   "source": [
    "pickle.dump(data,open('movies.pkl','wb'))"
   ]
  },
  {
   "cell_type": "code",
   "execution_count": 42,
   "id": "79b166ff-35cd-4285-9aa1-4d2fc902ecc7",
   "metadata": {},
   "outputs": [],
   "source": [
    "pickle.dump(similarity,open('similarity.pkl','wb'))"
   ]
  },
  {
   "cell_type": "code",
   "execution_count": null,
   "id": "817ece33-e34e-4027-b7bd-25d71b88670a",
   "metadata": {},
   "outputs": [],
   "source": []
  }
 ],
 "metadata": {
  "kernelspec": {
   "display_name": "Python 3 (ipykernel)",
   "language": "python",
   "name": "python3"
  },
  "language_info": {
   "codemirror_mode": {
    "name": "ipython",
    "version": 3
   },
   "file_extension": ".py",
   "mimetype": "text/x-python",
   "name": "python",
   "nbconvert_exporter": "python",
   "pygments_lexer": "ipython3",
   "version": "3.12.3"
  }
 },
 "nbformat": 4,
 "nbformat_minor": 5
}
